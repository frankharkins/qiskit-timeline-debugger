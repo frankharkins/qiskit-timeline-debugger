{
 "cells": [
  {
   "cell_type": "code",
   "execution_count": 6,
   "id": "06f0b960",
   "metadata": {
    "ExecuteTime": {
     "end_time": "2022-01-05T15:32:47.556467Z",
     "start_time": "2022-01-05T15:32:45.561796Z"
    },
    "scrolled": false
   },
   "outputs": [
    {
     "data": {
      "application/vnd.jupyter.widget-view+json": {
       "model_id": "81b14312ca774ae08bf6176e15b13178",
       "version_major": 2,
       "version_minor": 0
      },
      "text/plain": [
       "TimelineView(children=(HTML(value='\\n        <style>\\n        .title h1 { font-size: 45px; font-weight: bold; …"
      ]
     },
     "metadata": {},
     "output_type": "display_data"
    }
   ],
   "source": [
    "from qiskit import QuantumCircuit\n",
    "from qiskit.test.mock import FakeCasablanca\n",
    "from qiskit_trebugger import Debugger\n",
    "import warnings\n",
    "\n",
    "warnings.simplefilter('ignore')\n",
    "debugger = Debugger()\n",
    "backend = FakeCasablanca()\n",
    "circuit = QuantumCircuit(2)\n",
    "circuit.h(0)\n",
    "circuit.cx(0,1)\n",
    "circuit.measure_all()\n",
    "# replace transpile call \n",
    "debugger.debug(circuit, backend = backend, initial_layout = [0,1])"
   ]
  },
  {
   "cell_type": "code",
   "execution_count": null,
   "id": "8f5d4a9c",
   "metadata": {},
   "outputs": [],
   "source": []
  }
 ],
 "metadata": {
  "kernelspec": {
   "display_name": "test-trebugger",
   "language": "python",
   "name": "test-trebugger"
  },
  "language_info": {
   "codemirror_mode": {
    "name": "ipython",
    "version": 3
   },
   "file_extension": ".py",
   "mimetype": "text/x-python",
   "name": "python",
   "nbconvert_exporter": "python",
   "pygments_lexer": "ipython3",
   "version": "3.9.7"
  }
 },
 "nbformat": 4,
 "nbformat_minor": 5
}
